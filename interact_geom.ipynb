{
 "cells": [
  {
   "cell_type": "code",
   "execution_count": 22,
   "id": "c60b4a24",
   "metadata": {},
   "outputs": [],
   "source": [
    "import numpy as np\n",
    "import matplotlib.pyplot as plt\n",
    "import pyFAI\n",
    "import pyFAI.calibrant\n",
    "import pyFAI.azimuthalIntegrator\n",
    "import ipywidgets as widgets\n",
    "from ipywidgets import interact\n",
    "import time"
   ]
  },
  {
   "cell_type": "code",
   "execution_count": 23,
   "id": "e55b618f",
   "metadata": {},
   "outputs": [],
   "source": [
    "def get_detector(det):\n",
    "    return pyFAI.detector_factory(det)\n",
    "\n",
    "def get_energy(wavelength):\n",
    "    return 12.398*wavelength # returned in keV\n",
    "\n",
    "def get_wavelength(energy):\n",
    "    return 12.398/energy*1e-10 # returned in m\n",
    "\n",
    "def get_radians(deg):\n",
    "    return np.radians(deg)"
   ]
  },
  {
   "cell_type": "code",
   "execution_count": 24,
   "id": "695e09ef",
   "metadata": {},
   "outputs": [],
   "source": [
    "def get_standard(std, energy):\n",
    "    if type(std).__module__ == np.__name__:\n",
    "        # TODO: implement list of 2th or Q in an array\n",
    "        # rather than a standard\n",
    "        print('Not yet implemented!')\n",
    "    elif type(std) == str:\n",
    "        standard = pyFAI.calibrant.get_calibrant(std)\n",
    "        standard.set_wavelength(get_wavelength(energy))\n",
    "    return standard"
   ]
  },
  {
   "cell_type": "code",
   "execution_count": 25,
   "id": "e9429b53",
   "metadata": {},
   "outputs": [],
   "source": [
    "def geo_cone(X, Y, Z, rota, tilt, yoff, dist):\n",
    "    # rotate the sample around y\n",
    "    a = np.deg2rad(tilt) + np.deg2rad(rota)\n",
    "    t = np.transpose(np.array([X,Y,Z]), (1,2,0))\n",
    "    m = [[np.cos(a), 0, np.sin(a)],[0,1,0],[-np.sin(a), 0, np.cos(a)]]\n",
    "    X,Y,Z = np.transpose(np.dot(t, m), (2,0,1))\n",
    "    # compensate for tilt\n",
    "    comp = np.deg2rad(tilt) * dist\n",
    "    return Y,X+comp-yoff,Z"
   ]
  },
  {
   "cell_type": "code",
   "execution_count": 26,
   "id": "6f873ab6",
   "metadata": {},
   "outputs": [],
   "source": [
    "detector = get_detector('eiger2_4m')"
   ]
  },
  {
   "cell_type": "code",
   "execution_count": 27,
   "id": "1c2e775a",
   "metadata": {},
   "outputs": [
    {
     "data": {
      "text/plain": [
       "OrderedDict([('detector', 'Eiger2 4M'),\n",
       "             ('pixel1', 7.5e-05),\n",
       "             ('pixel2', 7.5e-05),\n",
       "             ('max_shape', (2162, 2068))])"
      ]
     },
     "execution_count": 27,
     "metadata": {},
     "output_type": "execute_result"
    }
   ],
   "source": [
    "detector.getPyFAI()"
   ]
  },
  {
   "cell_type": "code",
   "execution_count": 28,
   "id": "7363ec63",
   "metadata": {},
   "outputs": [],
   "source": [
    "\n",
    "#detector = pyFAI.detector_factory(\"Eiger2 CdTe 4M\")\n",
    "#mask = detector.mask.copy()\n",
    "#print(detector)\n",
    "\n",
    "# detector pixel array inspired from pyFAI.geometry.Geometry.calcfrom1d\n",
    "def plot(det, \n",
    "         method='cones', \n",
    "         standard='Si', \n",
    "         energy=20.5, \n",
    "         dist=0.075, \n",
    "         offset1=0.08, \n",
    "         offset2=0.08, \n",
    "         rot=0, \n",
    "         tilt=0):\n",
    "    \n",
    "    # setup a timer\n",
    "    t0 = time.perf_counter()\n",
    "    \n",
    "    # setup the detector\n",
    "    detector = get_detector(det)\n",
    "    print(detector.get_name())\n",
    "    print(f'Init detector: {time.perf_counter()-t0}')\n",
    "    \n",
    "    # init the image\n",
    "    image = np.zeros(detector.max_shape)\n",
    "    \n",
    "    # check if gaps exist and mask them if present\n",
    "    # TODO: this currently fails for PE as .copy() is\n",
    "    # not defined\n",
    "    mask = detector.mask.copy()\n",
    "    print(f'Init mask: {time.perf_counter()-t0}')\n",
    "    if mask is not None:\n",
    "        #image[np.where(mask)] = -1 # dummy value for non-existant pixels\n",
    "        print(f'Mask out gaps: {time.perf_counter()-t0}')\n",
    "        \n",
    "        \n",
    "    fig, ax = plt.subplots()\n",
    "    if method == 'pyFAI':        \n",
    "        std = get_standard(standard, energy)\n",
    "    \n",
    "        geom = pyFAI.azimuthalIntegrator.AzimuthalIntegrator(dist=dist, \n",
    "                                                         wavelength=get_wavelength(energy),\n",
    "                                                         poni1=offset1,\n",
    "                                                         poni2=offset2,\n",
    "                                                         rot1=get_radians(tilt),\n",
    "                                                         rot2=get_radians(rot),\n",
    "                                                         detector=detector\n",
    "                                                        )\n",
    "    \n",
    "        image = std.fake_calibration_image(geom)\n",
    "        ax.imshow(image, origin='lower')\n",
    "        ax.imshow(mask, alpha=0.3, origin='lower')    \n",
    "    elif method == 'cones':\n",
    "        #ax.imshow(mask, alpha=0.3, origin='lower')   \n",
    "        # calculate physical sizes of detector in \n",
    "        # horizontal (x) and vertical (y) direction\n",
    "        detx = detector.shape[0]*detector.pixel1\n",
    "        dety = detector.shape[1]*detector.pixel2\n",
    "        \n",
    "        # figure out max dimension\n",
    "        gridmax = max(detx, dety)\n",
    "        \n",
    "        # prepare grids within the detector\n",
    "        steps = 50 # number of steps in the grid\n",
    "        xmesh = np.linspace(-gridmax, gridmax, steps)\n",
    "        ymesh = np.linspace(-gridmax, gridmax, steps)\n",
    "        \n",
    "        scale = 1\n",
    "        X, Y = np.meshgrid(xmesh, ymesh)\n",
    "        \n",
    "        #2:_stl*4*np.pi\n",
    "        Z = np.sqrt(X**2+Y**2)*5 #2.10 in Q\n",
    "        \n",
    "        X, Y, Z = geo_cone(X, Y, Z, 0, 0, 0, dist)\n",
    "        ax.contour(X, Y, Z, [dist], \n",
    "                   #colors=plo.cont_orig_color, \n",
    "                   #alpha=plo.cont_orig_alpha\n",
    "                  )\n",
    "        #ax.imshow(mask, alpha=0.3, origin='lower')   \n",
    "\n",
    "\n",
    "    \n",
    "\n",
    "   \n",
    "\n",
    "    return energy\n"
   ]
  },
  {
   "cell_type": "code",
   "execution_count": 29,
   "id": "31c5cc38",
   "metadata": {},
   "outputs": [
    {
     "data": {
      "application/vnd.jupyter.widget-view+json": {
       "model_id": "ac271f730afb481e86ed094330e940ba",
       "version_major": 2,
       "version_minor": 0
      },
      "text/plain": [
       "interactive(children=(Dropdown(description='det', options=('Eiger2 CdTe 4M', 'Pilatus CdTe 2M', 'Perkin detect…"
      ]
     },
     "metadata": {},
     "output_type": "display_data"
    },
    {
     "data": {
      "text/plain": [
       "<function __main__.plot(det, method='cones', standard='Si', energy=20.5, dist=0.075, offset1=0.08, offset2=0.08, rot=0, tilt=0)>"
      ]
     },
     "execution_count": 29,
     "metadata": {},
     "output_type": "execute_result"
    }
   ],
   "source": [
    "interact(plot, \n",
    "         det=['Eiger2 CdTe 4M', 'Pilatus CdTe 2M', 'Perkin detector'], \n",
    "         method=['pyFAI'], # cones commented out\n",
    "         standard=['Si', 'Ni'],\n",
    "         energy=(10, 35),\n",
    "         dist=(0.05, 0.3, 0.001),\n",
    "         offset1=(0, 0.5, 0.001),\n",
    "         offset2=(0, 0.5, 0.001),\n",
    "         rot=(0,45),\n",
    "         tilt=(0,45)\n",
    "         )"
   ]
  },
  {
   "cell_type": "code",
   "execution_count": null,
   "id": "7626f624",
   "metadata": {},
   "outputs": [],
   "source": []
  }
 ],
 "metadata": {
  "interpreter": {
   "hash": "7f0449aa0edba8b7082c660bc570ee9b27bcbb2e7d601d91633f1e2874f79a0e"
  },
  "kernelspec": {
   "display_name": "Python 3.9.12 ('py39')",
   "language": "python",
   "name": "python3"
  },
  "language_info": {
   "codemirror_mode": {
    "name": "ipython",
    "version": 3
   },
   "file_extension": ".py",
   "mimetype": "text/x-python",
   "name": "python",
   "nbconvert_exporter": "python",
   "pygments_lexer": "ipython3",
   "version": "3.9.12"
  }
 },
 "nbformat": 4,
 "nbformat_minor": 5
}
